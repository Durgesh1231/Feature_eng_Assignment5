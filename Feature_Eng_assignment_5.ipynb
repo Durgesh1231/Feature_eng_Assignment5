{
  "nbformat": 4,
  "nbformat_minor": 0,
  "metadata": {
    "colab": {
      "provenance": []
    },
    "kernelspec": {
      "name": "python3",
      "display_name": "Python 3"
    },
    "language_info": {
      "name": "python"
    }
  },
  "cells": [
    {
      "cell_type": "code",
      "execution_count": null,
      "metadata": {
        "id": "q9B_EK4Me9ix"
      },
      "outputs": [],
      "source": [
        "# Q1: Pearson Correlation Coefficient for Study Time and Exam Scores\n",
        "import numpy as np\n",
        "from scipy.stats import pearsonr, spearmanr\n",
        "\n",
        "# Example data for study time (in hours) and exam scores (out of 100)\n",
        "study_time = np.array([5, 10, 15, 20, 25])  # Hours\n",
        "exam_scores = np.array([50, 60, 70, 80, 90])  # Exam Scores\n",
        "\n",
        "# Calculate Pearson correlation coefficient\n",
        "pearson_corr, p_value = pearsonr(study_time, exam_scores)\n",
        "\n",
        "print(f\"Q1: Pearson Correlation Coefficient: {pearson_corr}\")\n",
        "print(f\"P-value: {p_value}\")\n",
        "\n",
        "# Q2: Spearman's Rank Correlation for Sleep and Job Satisfaction\n",
        "# Example data for sleep hours and job satisfaction level (scale of 1 to 10)\n",
        "sleep_hours = np.array([6, 7, 8, 5, 6])  # Hours of sleep\n",
        "job_satisfaction = np.array([5, 7, 8, 4, 6])  # Job satisfaction (1-10 scale)\n",
        "\n",
        "# Calculate Spearman's rank correlation\n",
        "spearman_corr, spearman_p_value = spearmanr(sleep_hours, job_satisfaction)\n",
        "\n",
        "print(f\"Q2: Spearman's Rank Correlation: {spearman_corr}\")\n",
        "print(f\"P-value: {spearman_p_value}\")\n",
        "\n",
        "# Q3: Pearson and Spearman Correlation for Exercise Hours and BMI\n",
        "# Example data for exercise hours and BMI\n",
        "exercise_hours = np.array([1, 2, 3, 4, 5])  # Hours per week\n",
        "bmi = np.array([24, 23, 22, 21, 20])  # BMI values\n",
        "\n",
        "# Pearson correlation\n",
        "pearson_corr_exercise_bmi, pearson_p_value = pearsonr(exercise_hours, bmi)\n",
        "\n",
        "# Spearman correlation\n",
        "spearman_corr_exercise_bmi, spearman_p_value = spearmanr(exercise_hours, bmi)\n",
        "\n",
        "print(f\"Q3: Pearson Correlation between Exercise and BMI: {pearson_corr_exercise_bmi}\")\n",
        "print(f\"Spearman's Rank Correlation: {spearman_corr_exercise_bmi}\")\n",
        "\n",
        "# Q4: Pearson Correlation Between TV Hours and Physical Activity\n",
        "# Example data for TV hours and physical activity (in hours per day)\n",
        "tv_hours = np.array([2, 3, 4, 1, 0])  # Hours spent watching TV\n",
        "activity_hours = np.array([1, 0.5, 0.2, 2, 3])  # Hours spent on physical activity\n",
        "\n",
        "# Calculate Pearson correlation coefficient\n",
        "pearson_corr_tv_activity, p_value = pearsonr(tv_hours, activity_hours)\n",
        "\n",
        "print(f\"Q4: Pearson Correlation between TV and Physical Activity: {pearson_corr_tv_activity}\")\n",
        "\n",
        "# Q5: Survey on Age and Brand Preference (Soft Drink)\n",
        "# Example data for Age and Brand Preference (encoded numerically)\n",
        "age = np.array([25, 42, 37, 19, 31, 28])\n",
        "brands = np.array([0, 1, 2, 0, 1, 0])  # Numeric encoding (Coke: 0, Pepsi: 1, Mountain Dew: 2)\n",
        "\n",
        "# Calculate Pearson correlation coefficient\n",
        "pearson_corr_age_brand, p_value = pearsonr(age, brands)\n",
        "\n",
        "print(f\"Q5: Pearson Correlation between Age and Brand Preference: {pearson_corr_age_brand}\")\n",
        "\n",
        "# Q6: Pearson Correlation for Sales Calls and Sales Made\n",
        "# Example data for sales calls and sales made\n",
        "sales_calls = np.array([50, 40, 60, 70, 80])  # Sales calls per day\n",
        "sales_made = np.array([10, 8, 12, 14, 16])  # Sales made per week\n",
        "\n",
        "# Calculate Pearson correlation coefficient\n",
        "pearson_corr_sales, p_value = pearsonr(sales_calls, sales_made)\n",
        "\n",
        "print(f\"Q6: Pearson Correlation between Sales Calls and Sales Made: {pearson_corr_sales}\")\n"
      ]
    }
  ]
}